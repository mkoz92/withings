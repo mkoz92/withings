{
 "cells": [
  {
   "cell_type": "code",
   "execution_count": null,
   "id": "105e9da5",
   "metadata": {},
   "outputs": [],
   "source": [
    "import pandas as pd \n",
    "import numpy as np\n",
    "import matplotlib.pyplot as plt\n",
    "%matplotlib inline\n"
   ]
  },
  {
   "cell_type": "code",
   "execution_count": null,
   "id": "ba1aeef6",
   "metadata": {},
   "outputs": [],
   "source": [
    "%config InlineBackend.figure_format = 'svg'\n",
    "plt.rcParams[\"figure.figsize\"]=9,9"
   ]
  },
  {
   "cell_type": "code",
   "execution_count": null,
   "id": "867b71c5",
   "metadata": {},
   "outputs": [],
   "source": [
    "%%html\n",
    "<style>\n",
    ".output_svg div{\n",
    "  width: 100% !important;\n",
    "  height: 100% !important;\n",
    "}\n",
    "</style>"
   ]
  },
  {
   "cell_type": "code",
   "execution_count": null,
   "id": "3928d1ab",
   "metadata": {},
   "outputs": [],
   "source": [
    "weight = pd.read_csv(\"../data/weight.csv\")[::-1]\n",
    "weight.index =  pd.to_datetime(weight[\"Date\"])\n",
    "weight = weight.drop(\"Date\", axis=1)"
   ]
  },
  {
   "cell_type": "code",
   "execution_count": null,
   "id": "da341ff1",
   "metadata": {
    "scrolled": true
   },
   "outputs": [],
   "source": [
    "weight.tail(10)"
   ]
  },
  {
   "cell_type": "code",
   "execution_count": null,
   "id": "dacb3507",
   "metadata": {},
   "outputs": [],
   "source": [
    "ax1 = plt.subplot()\n",
    "plt.plot(weight[\"Weight (kg)\"])"
   ]
  },
  {
   "cell_type": "code",
   "execution_count": null,
   "id": "712e31bb",
   "metadata": {},
   "outputs": [],
   "source": [
    "plt.plot(weight[\"Fat mass (kg)\"])"
   ]
  },
  {
   "cell_type": "code",
   "execution_count": null,
   "id": "8c3d3131",
   "metadata": {},
   "outputs": [],
   "source": [
    "weight[\"7d rolling fat change\"] = weight[\"Fat mass (kg)\"].rolling(7).mean() - \\\n",
    "weight[\"Fat mass (kg)\"].rolling(7).mean().shift(7)\n",
    "weight[\"7d rolling muscle change\"] = weight[\"Muscle mass (kg)\"].rolling(7).mean() -\\\n",
    "weight[\"Muscle mass (kg)\"].rolling(7).mean().shift(7)"
   ]
  },
  {
   "cell_type": "code",
   "execution_count": null,
   "id": "60cab23b",
   "metadata": {},
   "outputs": [],
   "source": [
    "weight[[\"7d rolling muscle change\", \"7d rolling fat change\"]].iloc[-50:].plot()"
   ]
  },
  {
   "cell_type": "code",
   "execution_count": null,
   "id": "54eed72c",
   "metadata": {},
   "outputs": [],
   "source": []
  },
  {
   "cell_type": "code",
   "execution_count": null,
   "id": "7e4b1b0c",
   "metadata": {},
   "outputs": [],
   "source": []
  }
 ],
 "metadata": {
  "kernelspec": {
   "display_name": "Python 3 (ipykernel)",
   "language": "python",
   "name": "python3"
  },
  "language_info": {
   "codemirror_mode": {
    "name": "ipython",
    "version": 3
   },
   "file_extension": ".py",
   "mimetype": "text/x-python",
   "name": "python",
   "nbconvert_exporter": "python",
   "pygments_lexer": "ipython3",
   "version": "3.9.2"
  }
 },
 "nbformat": 4,
 "nbformat_minor": 5
}
